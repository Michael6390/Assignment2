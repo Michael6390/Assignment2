{
 "cells": [
  {
   "cell_type": "markdown",
   "id": "edbb04bf",
   "metadata": {},
   "source": [
    "# Assignment 2: Project C — Making a Neural Network"
   ]
  },
  {
   "cell_type": "markdown",
   "id": "35474abe",
   "metadata": {},
   "source": [
    "1. What processing was required on this pre-processed dataset (D3.csv) to further improve the data quality for neural network modelling? What distribution split between training and test datasets have you used?\n",
    "2. Build a Neural Network model using the default setting. Answer the following:\n",
    "- Explain the parameters used in building this model, e.g., network architecture, iterations, activation function, etc.\n",
    "- What is the classification accuracy on training and test datasets?\n",
    "- Did the training process converge and result in the best model?\n",
    "3. Refine this network by tuning it with GridSearchCV. Report the trained model.\n",
    "- Explain the parameters used in building this model, e.g., network architecture, iterations, activation function, etc.\n",
    "- What is the classification accuracy on training and test datasets?\n",
    "- Did the training process converge and result in the best model?\n",
    "- Do you see any sign of over-fitting?\n",
    "4. Let us see if feature selection helps in improving the model? Build another Neural Network model with reduced features set. Perform dimensionality reduction by selecting variables with a decision tree (use the best decision tree model that you have built in the previous modelling task). Tune the model with GridSearchCV to find the best parameters setting. Answer the following:\\\n",
    "- Did feature selection favour the outcome? Any change in network architecture? What inputs are being used as the network input?\n",
    "- What is the classification accuracy on training and test datasets?\n",
    "- How many iterations are now needed to train this network?\n",
    "- Do you see any sign of over-fitting? Did the training process converge and result in the best model?\n"
   ]
  },
  {
   "cell_type": "markdown",
   "id": "a9b4635a",
   "metadata": {},
   "source": [
    "**1. What processing was required on this pre-processed dataset (D3.csv) to further improve the data quality for neural network modelling? What distribution split between training and test datasets have you used?**"
   ]
  },
  {
   "cell_type": "code",
   "execution_count": 6,
   "id": "b392d250",
   "metadata": {},
   "outputs": [
    {
     "name": "stdout",
     "output_type": "stream",
     "text": [
      "<class 'pandas.core.frame.DataFrame'>\n",
      "RangeIndex: 142219 entries, 0 to 142218\n",
      "Columns: 109 entries, Month to WindDir3pm_WSW\n",
      "dtypes: float64(7), int64(5), uint8(97)\n",
      "memory usage: 26.2 MB\n",
      "None\n"
     ]
    }
   ],
   "source": [
    "# insert this code in a file dm_tools.py so that you don't have to write this everytime you build a new model.\n",
    "import numpy as np\n",
    "import pandas as pd\n",
    "from sklearn.model_selection import train_test_split\n",
    "\n",
    "df = pd.read_csv('D3.csv')\n",
    "    \n",
    "# Drop variables\n",
    "df = df.drop(['Temp9am', 'Temp3pm', 'Cloud9am', 'Cloud3pm', 'Year'], axis=1)\n",
    "    \n",
    "# Change Pressure and Temp variables to averages\n",
    "df['Pressure'] = (df['Pressure9am'] + df['Pressure3pm'])/2\n",
    "df = df.drop(['Pressure9am', 'Pressure3pm'], axis=1)\n",
    "df['Temp'] = (df['MinTemp'] + df['MaxTemp'])/2\n",
    "df = df.drop(['MinTemp', 'MaxTemp'], axis=1)\n",
    "              \n",
    "# Use one-hot encoding for categorical variables\n",
    "df = pd.get_dummies(df)\n",
    "print(df.info())\n",
    "\n",
    "# target/input split\n",
    "y = df['RainTomorrow']\n",
    "X = df.drop(['RainTomorrow'], axis=1)\n",
    "\n",
    "# setting random state\n",
    "rs = 10\n",
    "\n",
    "X_mat = X.to_numpy()\n",
    "X_train, X_test, y_train, y_test = train_test_split(X_mat, y, test_size=0.3, stratify=y, random_state=rs)"
   ]
  },
  {
   "cell_type": "code",
   "execution_count": 9,
   "id": "cd8506a3",
   "metadata": {},
   "outputs": [
    {
     "name": "stdout",
     "output_type": "stream",
     "text": [
      "Before scaling\n",
      "-------------\n",
      "Variable #0: min -1.5743209315248312, max 1.631729774781424, mean -0.00, and std dev 1.00\n",
      "Variable #1: min -0.27615087806300226, max 42.92717183441524, mean -0.00, and std dev 1.00\n",
      "Variable #2: min -1.7283141576961072, max 43.98261239301211, mean -0.00, and std dev 1.00\n",
      "Variable #3: min -2.7777448831061067, max 2.517232055162849, mean 0.00, and std dev 1.00\n",
      "Variable #4: min -2.51164382853385, max 7.223836994226553, mean 0.00, and std dev 1.00\n",
      "Variable #5: min -1.5790534287448341, max 13.065544355166038, mean 0.00, and std dev 1.00\n",
      "Variable #6: min -2.1384165687894057, max 7.373445388561311, mean 0.00, and std dev 1.00\n",
      "Variable #7: min -3.64623366041603, max 1.6505920144068724, mean 0.00, and std dev 1.00\n",
      "Variable #8: min -2.511284995504647, max 2.36595082455025, mean -0.00, and std dev 1.00\n",
      "Variable #9: min -5.319356076479082, max 3.5480898594610255, mean 0.00, and std dev 1.00\n",
      "After scaling\n",
      "-------------\n",
      "Variable #0: min -1.5743209315248508, max 1.6317297747814454, mean 0.00, and std dev 1.00\n",
      "Variable #1: min -0.27615087806272615, max 42.92717183437495, mean -0.00, and std dev 1.00\n",
      "Variable #2: min -1.7283141576954302, max 43.98261239299485, mean -0.00, and std dev 1.00\n",
      "Variable #3: min -2.777744883108707, max 2.51723205516053, mean 0.00, and std dev 1.00\n",
      "Variable #4: min -2.5116438285331264, max 7.223836994224473, mean 0.00, and std dev 1.00\n",
      "Variable #5: min -1.579053428744395, max 13.065544355162404, mean -0.00, and std dev 1.00\n",
      "Variable #6: min -2.1384165687895047, max 7.3734453885616515, mean -0.00, and std dev 1.00\n",
      "Variable #7: min -3.6462336604165704, max 1.6505920144070312, mean 0.00, and std dev 1.00\n",
      "Variable #8: min -2.5112849955042815, max 2.365950824550061, mean -0.00, and std dev 1.00\n",
      "Variable #9: min -5.319356076499732, max 3.5480898594407617, mean -0.00, and std dev 1.00\n"
     ]
    }
   ],
   "source": [
    "from sklearn.preprocessing import StandardScaler\n",
    "\n",
    "# Initialise a StandardScaler object\n",
    "scaler = StandardScaler()\n",
    "\n",
    "# Visualize min, max, mean, and standard deviation of data before scaling\n",
    "print(\"Before scaling\\n-------------\")\n",
    "for i in range(10):\n",
    "    col = X_train[:, i]\n",
    "    # Display statistics for each variable (column) in X_train\n",
    "    print(\"Variable #{}: min {}, max {}, mean {:.2f}, and std dev {:.2f}\".\n",
    "          format(i, min(col), max(col), np.mean(col), np.std(col)))\n",
    "\n",
    "# Learn the mean and std.dev of variables from the training data\n",
    "# Then use the learned values to transform the training data\n",
    "X_train = scaler.fit_transform(X_train, y_train)\n",
    "\n",
    "print(\"After scaling\\n-------------\")\n",
    "for i in range(10):\n",
    "    col = X_train[:, i]\n",
    "    # Display statistics for each variable after scaling\n",
    "    print(\"Variable #{}: min {}, max {}, mean {:.2f}, and std dev {:.2f}\".\n",
    "          format(i, min(col), max(col), np.mean(col), np.std(col)))\n",
    "\n",
    "# Use the statistics learned from training to transform the test data\n",
    "# NEVER learn from test data; this is supposed to be a set of data\n",
    "# that the model has never seen before\n",
    "X_test = scaler.transform(X_test)"
   ]
  },
  {
   "cell_type": "markdown",
   "id": "54bee6f9",
   "metadata": {},
   "source": [
    "**2. Build a Neural Network model using the default setting.**"
   ]
  },
  {
   "cell_type": "code",
   "execution_count": 11,
   "id": "69eca037",
   "metadata": {},
   "outputs": [
    {
     "name": "stderr",
     "output_type": "stream",
     "text": [
      "C:\\Users\\micha\\anaconda3\\Lib\\site-packages\\sklearn\\neural_network\\_multilayer_perceptron.py:691: ConvergenceWarning: Stochastic Optimizer: Maximum iterations (200) reached and the optimization hasn't converged yet.\n",
      "  warnings.warn(\n"
     ]
    },
    {
     "name": "stdout",
     "output_type": "stream",
     "text": [
      "Train accuracy: 0.9023434753347463\n",
      "Test accuracy: 0.8394506164158815\n",
      "              precision    recall  f1-score   support\n",
      "\n",
      "           0       0.88      0.92      0.90     33101\n",
      "           1       0.66      0.58      0.62      9565\n",
      "\n",
      "    accuracy                           0.84     42666\n",
      "   macro avg       0.77      0.75      0.76     42666\n",
      "weighted avg       0.83      0.84      0.84     42666\n",
      "\n",
      "MLPClassifier(random_state=10)\n"
     ]
    }
   ],
   "source": [
    "from sklearn.neural_network import MLPClassifier\n",
    "from sklearn.metrics import classification_report, accuracy_score\n",
    "\n",
    "# Assuming 'rs' is a predefined random state variable\n",
    "# Create an instance of MLPClassifier with a specified maximum number of iterations\n",
    "# (max_iter) and a random state\n",
    "model_1 = MLPClassifier(random_state=rs)\n",
    "\n",
    "# Train the model using the training data (X_train, y_train)\n",
    "model_1.fit(X_train, y_train)\n",
    "\n",
    "# Print the accuracy of the model on the training data\n",
    "print(\"Train accuracy:\", model_1.score(X_train, y_train))\n",
    "\n",
    "# Print the accuracy of the model on the testing data (unseen data)\n",
    "print(\"Test accuracy:\", model_1.score(X_test, y_test))\n",
    "\n",
    "# Make predictions on the testing data\n",
    "y_pred = model_1.predict(X_test)\n",
    "\n",
    "# Print a classification report that includes precision, recall, and F1-score\n",
    "# for each class in the testing data\n",
    "print(classification_report(y_test, y_pred))\n",
    "\n",
    "# Print information about the trained model, which typically includes\n",
    "# hyperparameters and other details about the neural network\n",
    "print(model_1)"
   ]
  },
  {
   "cell_type": "markdown",
   "id": "b9b4176a",
   "metadata": {},
   "source": [
    "**2(a) Explain the parameters used in building this model, e.g., network architecture, iterations, activation function, etc.**"
   ]
  },
  {
   "cell_type": "code",
   "execution_count": 13,
   "id": "99d00895",
   "metadata": {},
   "outputs": [
    {
     "name": "stdout",
     "output_type": "stream",
     "text": [
      "{'activation': 'relu', 'alpha': 0.0001, 'batch_size': 'auto', 'beta_1': 0.9, 'beta_2': 0.999, 'early_stopping': False, 'epsilon': 1e-08, 'hidden_layer_sizes': (100,), 'learning_rate': 'constant', 'learning_rate_init': 0.001, 'max_fun': 15000, 'max_iter': 200, 'momentum': 0.9, 'n_iter_no_change': 10, 'nesterovs_momentum': True, 'power_t': 0.5, 'random_state': 10, 'shuffle': True, 'solver': 'adam', 'tol': 0.0001, 'validation_fraction': 0.1, 'verbose': False, 'warm_start': False}\n"
     ]
    }
   ],
   "source": [
    "# Access all parameters of the trained model\n",
    "model_1_params = model_1.get_params()\n",
    "\n",
    "# Print the parameters\n",
    "print(model_1_params)"
   ]
  },
  {
   "cell_type": "code",
   "execution_count": 15,
   "id": "1ed7548f",
   "metadata": {},
   "outputs": [
    {
     "name": "stdout",
     "output_type": "stream",
     "text": [
      "Number of neurons in the input layer: 108\n"
     ]
    }
   ],
   "source": [
    "# Access the number of neurons in the input layer\n",
    "num_neurons_input_layer = model_1.n_features_in_\n",
    "\n",
    "# Print the number of neurons in the input layer\n",
    "print(\"Number of neurons in the input layer:\", num_neurons_input_layer)"
   ]
  },
  {
   "cell_type": "code",
   "execution_count": null,
   "id": "33f2dbd4",
   "metadata": {},
   "outputs": [],
   "source": [
    "hidden_layer_sizes=(100,),  # Tuple representing the size of hidden layers\n",
    "    activation='relu',          # Activation function for hidden layers\n",
    "    solver='adam',              # Optimization algorithm\n",
    "    alpha=0.0001,                # L2 penalty (regularization term) parameter\n",
    "    batch_size='auto',           # Size of minibatches for optimization\n",
    "    learning_rate='constant',    # Learning rate schedule\n",
    "    learning_rate_init=0.001,    # Initial learning rate\n",
    "    max_iter=200,                # Maximum number of iterations\n",
    "    shuffle=True,                # Whether to shuffle the training data before each epoch\n",
    "    random_state=None,           # Seed for random number generation\n",
    "    tol=1e-4,                    # Tolerance for optimization\n",
    "    verbose=False,               # Whether to print progress messages to stdout\n",
    "    warm_start=False,            # If set to True, reuse the solution of the previous call to fit\n",
    "    momentum=0.9,                # Momentum for gradient descent\n",
    "    nesterovs_momentum=True,     # Whether to use Nesterov's momentum\n",
    "    early_stopping=False,        # Whether to use early stopping to terminate training when validation score is not improving\n",
    "    validation_fraction=0.1,     # Fraction of training data to set aside as validation set for early stopping\n",
    "    beta_1=0.9,                  # Exponential decay rate for estimates of first moment vector in adam\n",
    "    beta_2=0.999,                # Exponential decay rate for estimates of second moment vector in adam\n",
    "    epsilon=1e-8,                # Value for numerical stability in adam\n",
    "    n_iter_no_change=10,         # Maximum number of epochs with no improvement to wait before early stopping\n",
    "    max_fun=15000                # Maximum number of function evaluations during optimization"
   ]
  },
  {
   "cell_type": "markdown",
   "id": "2890dcbd",
   "metadata": {},
   "source": [
    "Number of neurons in the input layer: 108\n",
    "Number of hidden layers: 100\n",
    "Activation function for hidden layers: rulu\n",
    "Alpha: 0.0001\n",
    "Number of Iterations: 200\n",
    "Random State: 10\n",
    "\n"
   ]
  },
  {
   "cell_type": "markdown",
   "id": "4f7b0a7e",
   "metadata": {},
   "source": [
    "**What is the classification accuracy on training and test datasets?**"
   ]
  },
  {
   "cell_type": "code",
   "execution_count": 17,
   "id": "077a27c4",
   "metadata": {},
   "outputs": [
    {
     "name": "stdout",
     "output_type": "stream",
     "text": [
      "Train accuracy: 0.9023434753347463\n",
      "Test accuracy: 0.8394506164158815\n",
      "              precision    recall  f1-score   support\n",
      "\n",
      "           0       0.88      0.92      0.90     33101\n",
      "           1       0.66      0.58      0.62      9565\n",
      "\n",
      "    accuracy                           0.84     42666\n",
      "   macro avg       0.77      0.75      0.76     42666\n",
      "weighted avg       0.83      0.84      0.84     42666\n",
      "\n"
     ]
    }
   ],
   "source": [
    "# Print the accuracy of the model on the training data\n",
    "print(\"Train accuracy:\", model_1.score(X_train, y_train))\n",
    "\n",
    "# Print the accuracy of the model on the testing data (unseen data)\n",
    "print(\"Test accuracy:\", model_1.score(X_test, y_test))\n",
    "\n",
    "# Make predictions on the testing data\n",
    "y_pred = model_1.predict(X_test)\n",
    "\n",
    "# Print a classification report that includes precision, recall, and F1-score\n",
    "# for each class in the testing data\n",
    "print(classification_report(y_test, y_pred))"
   ]
  },
  {
   "cell_type": "markdown",
   "id": "438555da",
   "metadata": {},
   "source": [
    "**Did the training process converge and result in the best model?**"
   ]
  },
  {
   "cell_type": "markdown",
   "id": "4559eca1",
   "metadata": {},
   "source": [
    "The Maximum iterations (200) was reached and the optimization had not converged yet. We can run the model again adjusting the max number of iteration"
   ]
  },
  {
   "cell_type": "code",
   "execution_count": 12,
   "id": "c725171c",
   "metadata": {},
   "outputs": [
    {
     "name": "stdout",
     "output_type": "stream",
     "text": [
      "Train accuracy: 0.90437254527739\n",
      "Test accuracy: 0.8381615337739652\n",
      "              precision    recall  f1-score   support\n",
      "\n",
      "           0       0.88      0.91      0.90     33101\n",
      "           1       0.66      0.59      0.62      9565\n",
      "\n",
      "    accuracy                           0.84     42666\n",
      "   macro avg       0.77      0.75      0.76     42666\n",
      "weighted avg       0.83      0.84      0.83     42666\n",
      "\n",
      "MLPClassifier(max_iter=700, random_state=10)\n"
     ]
    }
   ],
   "source": [
    "from sklearn.neural_network import MLPClassifier\n",
    "from sklearn.metrics import classification_report, accuracy_score\n",
    "\n",
    "# Assuming 'rs' is a predefined random state variable\n",
    "# Create an instance of MLPClassifier with a specified maximum number of iterations\n",
    "# (max_iter) and a random state\n",
    "model_2 = MLPClassifier(max_iter=700, random_state=rs)\n",
    "\n",
    "# Train the model using the training data (X_train, y_train)\n",
    "model_2.fit(X_train, y_train)\n",
    "\n",
    "# Print the accuracy of the model on the training data\n",
    "print(\"Train accuracy:\", model_2.score(X_train, y_train))\n",
    "\n",
    "# Print the accuracy of the model on the testing data (unseen data)\n",
    "print(\"Test accuracy:\", model_2.score(X_test, y_test))\n",
    "\n",
    "# Make predictions on the testing data\n",
    "y_pred = model_2.predict(X_test)\n",
    "\n",
    "# Print a classification report that includes precision, recall, and F1-score\n",
    "# for each class in the testing data\n",
    "print(classification_report(y_test, y_pred))\n",
    "\n",
    "# Print information about the trained model, which typically includes\n",
    "# hyperparameters and other details about the neural network\n",
    "print(model_2)"
   ]
  },
  {
   "cell_type": "markdown",
   "id": "475d6509",
   "metadata": {},
   "source": [
    "**3. Refine this network by tuning it with GridSearchCV. Report the trained model.**"
   ]
  },
  {
   "cell_type": "code",
   "execution_count": 18,
   "id": "087b2438",
   "metadata": {},
   "outputs": [
    {
     "name": "stdout",
     "output_type": "stream",
     "text": [
      "(99553, 108)\n"
     ]
    }
   ],
   "source": [
    "# Print the shape of the training data matrix X_train\n",
    "print(X_train.shape)"
   ]
  },
  {
   "cell_type": "markdown",
   "id": "1cea2525",
   "metadata": {},
   "source": [
    "With 109 features, we will start tuning with one hidden layer of 9 to 109 neurons, increment of 20"
   ]
  },
  {
   "cell_type": "code",
   "execution_count": 20,
   "id": "1ef689f6",
   "metadata": {},
   "outputs": [
    {
     "data": {
      "text/html": [
       "<style>#sk-container-id-1 {color: black;}#sk-container-id-1 pre{padding: 0;}#sk-container-id-1 div.sk-toggleable {background-color: white;}#sk-container-id-1 label.sk-toggleable__label {cursor: pointer;display: block;width: 100%;margin-bottom: 0;padding: 0.3em;box-sizing: border-box;text-align: center;}#sk-container-id-1 label.sk-toggleable__label-arrow:before {content: \"▸\";float: left;margin-right: 0.25em;color: #696969;}#sk-container-id-1 label.sk-toggleable__label-arrow:hover:before {color: black;}#sk-container-id-1 div.sk-estimator:hover label.sk-toggleable__label-arrow:before {color: black;}#sk-container-id-1 div.sk-toggleable__content {max-height: 0;max-width: 0;overflow: hidden;text-align: left;background-color: #f0f8ff;}#sk-container-id-1 div.sk-toggleable__content pre {margin: 0.2em;color: black;border-radius: 0.25em;background-color: #f0f8ff;}#sk-container-id-1 input.sk-toggleable__control:checked~div.sk-toggleable__content {max-height: 200px;max-width: 100%;overflow: auto;}#sk-container-id-1 input.sk-toggleable__control:checked~label.sk-toggleable__label-arrow:before {content: \"▾\";}#sk-container-id-1 div.sk-estimator input.sk-toggleable__control:checked~label.sk-toggleable__label {background-color: #d4ebff;}#sk-container-id-1 div.sk-label input.sk-toggleable__control:checked~label.sk-toggleable__label {background-color: #d4ebff;}#sk-container-id-1 input.sk-hidden--visually {border: 0;clip: rect(1px 1px 1px 1px);clip: rect(1px, 1px, 1px, 1px);height: 1px;margin: -1px;overflow: hidden;padding: 0;position: absolute;width: 1px;}#sk-container-id-1 div.sk-estimator {font-family: monospace;background-color: #f0f8ff;border: 1px dotted black;border-radius: 0.25em;box-sizing: border-box;margin-bottom: 0.5em;}#sk-container-id-1 div.sk-estimator:hover {background-color: #d4ebff;}#sk-container-id-1 div.sk-parallel-item::after {content: \"\";width: 100%;border-bottom: 1px solid gray;flex-grow: 1;}#sk-container-id-1 div.sk-label:hover label.sk-toggleable__label {background-color: #d4ebff;}#sk-container-id-1 div.sk-serial::before {content: \"\";position: absolute;border-left: 1px solid gray;box-sizing: border-box;top: 0;bottom: 0;left: 50%;z-index: 0;}#sk-container-id-1 div.sk-serial {display: flex;flex-direction: column;align-items: center;background-color: white;padding-right: 0.2em;padding-left: 0.2em;position: relative;}#sk-container-id-1 div.sk-item {position: relative;z-index: 1;}#sk-container-id-1 div.sk-parallel {display: flex;align-items: stretch;justify-content: center;background-color: white;position: relative;}#sk-container-id-1 div.sk-item::before, #sk-container-id-1 div.sk-parallel-item::before {content: \"\";position: absolute;border-left: 1px solid gray;box-sizing: border-box;top: 0;bottom: 0;left: 50%;z-index: -1;}#sk-container-id-1 div.sk-parallel-item {display: flex;flex-direction: column;z-index: 1;position: relative;background-color: white;}#sk-container-id-1 div.sk-parallel-item:first-child::after {align-self: flex-end;width: 50%;}#sk-container-id-1 div.sk-parallel-item:last-child::after {align-self: flex-start;width: 50%;}#sk-container-id-1 div.sk-parallel-item:only-child::after {width: 0;}#sk-container-id-1 div.sk-dashed-wrapped {border: 1px dashed gray;margin: 0 0.4em 0.5em 0.4em;box-sizing: border-box;padding-bottom: 0.4em;background-color: white;}#sk-container-id-1 div.sk-label label {font-family: monospace;font-weight: bold;display: inline-block;line-height: 1.2em;}#sk-container-id-1 div.sk-label-container {text-align: center;}#sk-container-id-1 div.sk-container {/* jupyter's `normalize.less` sets `[hidden] { display: none; }` but bootstrap.min.css set `[hidden] { display: none !important; }` so we also need the `!important` here to be able to override the default hidden behavior on the sphinx rendered scikit-learn.org. See: https://github.com/scikit-learn/scikit-learn/issues/21755 */display: inline-block !important;position: relative;}#sk-container-id-1 div.sk-text-repr-fallback {display: none;}</style><div id=\"sk-container-id-1\" class=\"sk-top-container\"><div class=\"sk-text-repr-fallback\"><pre>GridSearchCV(cv=10, estimator=MLPClassifier(random_state=10), n_jobs=-1,\n",
       "             param_grid={&#x27;hidden_layer_sizes&#x27;: [(9,), (29,), (49,), (69,),\n",
       "                                                (89,), (109,)]},\n",
       "             return_train_score=True)</pre><b>In a Jupyter environment, please rerun this cell to show the HTML representation or trust the notebook. <br />On GitHub, the HTML representation is unable to render, please try loading this page with nbviewer.org.</b></div><div class=\"sk-container\" hidden><div class=\"sk-item sk-dashed-wrapped\"><div class=\"sk-label-container\"><div class=\"sk-label sk-toggleable\"><input class=\"sk-toggleable__control sk-hidden--visually\" id=\"sk-estimator-id-1\" type=\"checkbox\" ><label for=\"sk-estimator-id-1\" class=\"sk-toggleable__label sk-toggleable__label-arrow\">GridSearchCV</label><div class=\"sk-toggleable__content\"><pre>GridSearchCV(cv=10, estimator=MLPClassifier(random_state=10), n_jobs=-1,\n",
       "             param_grid={&#x27;hidden_layer_sizes&#x27;: [(9,), (29,), (49,), (69,),\n",
       "                                                (89,), (109,)]},\n",
       "             return_train_score=True)</pre></div></div></div><div class=\"sk-parallel\"><div class=\"sk-parallel-item\"><div class=\"sk-item\"><div class=\"sk-label-container\"><div class=\"sk-label sk-toggleable\"><input class=\"sk-toggleable__control sk-hidden--visually\" id=\"sk-estimator-id-2\" type=\"checkbox\" ><label for=\"sk-estimator-id-2\" class=\"sk-toggleable__label sk-toggleable__label-arrow\">estimator: MLPClassifier</label><div class=\"sk-toggleable__content\"><pre>MLPClassifier(random_state=10)</pre></div></div></div><div class=\"sk-serial\"><div class=\"sk-item\"><div class=\"sk-estimator sk-toggleable\"><input class=\"sk-toggleable__control sk-hidden--visually\" id=\"sk-estimator-id-3\" type=\"checkbox\" ><label for=\"sk-estimator-id-3\" class=\"sk-toggleable__label sk-toggleable__label-arrow\">MLPClassifier</label><div class=\"sk-toggleable__content\"><pre>MLPClassifier(random_state=10)</pre></div></div></div></div></div></div></div></div></div></div>"
      ],
      "text/plain": [
       "GridSearchCV(cv=10, estimator=MLPClassifier(random_state=10), n_jobs=-1,\n",
       "             param_grid={'hidden_layer_sizes': [(9,), (29,), (49,), (69,),\n",
       "                                                (89,), (109,)]},\n",
       "             return_train_score=True)"
      ]
     },
     "execution_count": 20,
     "metadata": {},
     "output_type": "execute_result"
    }
   ],
   "source": [
    "from sklearn.neural_network import MLPClassifier\n",
    "from sklearn.metrics import classification_report, accuracy_score\n",
    "from sklearn.model_selection import GridSearchCV\n",
    "\n",
    "# Define a dictionary of hyperparameter values to search through.\n",
    "# In this case, it's the hidden layer sizes, where each value is a tuple\n",
    "# containing a single integer representing the size of a hidden layer.\n",
    "params = {'hidden_layer_sizes': [(x,) for x in range(9, 110, 20)]}\n",
    "\n",
    "# Create an instance of GridSearchCV, which performs a search over a specified\n",
    "# parameter grid for the best hyperparameters.\n",
    "# 'estimator' is the model to be tuned, and 'param_grid' is the dictionary\n",
    "# of hyperparameter values to search through.\n",
    "# 'cv' is the number of cross-validation folds, and 'n_jobs' is the number\n",
    "# of CPU cores to use in parallel (set to -1 to use all available cores).\n",
    "cv_1 = GridSearchCV(param_grid=params, estimator=MLPClassifier(random_state=rs), return_train_score=True, cv=10, n_jobs=-1)\n",
    "\n",
    "# Fit the GridSearchCV instance on the training data to find the best hyperparameters.\n",
    "cv_1.fit(X_train, y_train)\n"
   ]
  },
  {
   "cell_type": "code",
   "execution_count": 21,
   "id": "4f82c96f",
   "metadata": {},
   "outputs": [
    {
     "name": "stdout",
     "output_type": "stream",
     "text": [
      "{'mean_fit_time': array([ 34.06599164,  87.07128804, 154.49099796, 230.78428283,\n",
      "       280.09072275, 272.26050303]), 'std_fit_time': array([ 3.65194392,  9.33280726, 15.98802998,  7.83238444, 16.09338113,\n",
      "       49.22682128]), 'mean_score_time': array([0.01370883, 0.03326173, 0.05552626, 0.07143404, 0.0757318 ,\n",
      "       0.0359077 ]), 'std_score_time': array([0.004834  , 0.00580087, 0.0129982 , 0.01224278, 0.0053626 ,\n",
      "       0.01725672]), 'param_hidden_layer_sizes': masked_array(data=[(9,), (29,), (49,), (69,), (89,), (109,)],\n",
      "             mask=[False, False, False, False, False, False],\n",
      "       fill_value='?',\n",
      "            dtype=object), 'params': [{'hidden_layer_sizes': (9,)}, {'hidden_layer_sizes': (29,)}, {'hidden_layer_sizes': (49,)}, {'hidden_layer_sizes': (69,)}, {'hidden_layer_sizes': (89,)}, {'hidden_layer_sizes': (109,)}], 'split0_test_score': array([0.85526316, 0.85566493, 0.84943753, 0.84401366, 0.8359783 ,\n",
      "       0.83175974]), 'split1_test_score': array([0.85958216, 0.85817597, 0.85014062, 0.8460225 , 0.83658096,\n",
      "       0.83145842]), 'split2_test_score': array([0.8565689 , 0.85214946, 0.84702692, 0.8429088 , 0.83627963,\n",
      "       0.83507433]), 'split3_test_score': array([0.8569563 , 0.85323958, 0.85133099, 0.84349573, 0.84259166,\n",
      "       0.83425414]), 'split4_test_score': array([0.85665495, 0.85404319, 0.84801607, 0.84429935, 0.84540432,\n",
      "       0.83164239]), 'split5_test_score': array([0.85303867, 0.85183325, 0.84600703, 0.84118533, 0.84088398,\n",
      "       0.83425414]), 'split6_test_score': array([0.86398795, 0.85836263, 0.85414365, 0.84409844, 0.84299347,\n",
      "       0.83606228]), 'split7_test_score': array([0.85625314, 0.85595178, 0.84520342, 0.84520342, 0.84108488,\n",
      "       0.83485686]), 'split8_test_score': array([0.8592667 , 0.85866399, 0.85213461, 0.847112  , 0.84249121,\n",
      "       0.82933199]), 'split9_test_score': array([0.86047212, 0.85323958, 0.84470116, 0.84098443, 0.83907584,\n",
      "       0.83053742]), 'mean_test_score': array([0.85780441, 0.85513244, 0.8488142 , 0.84393237, 0.84033643,\n",
      "       0.83292317]), 'std_test_score': array([0.00292908, 0.00247506, 0.00299294, 0.00183679, 0.0030737 ,\n",
      "       0.00213287]), 'rank_test_score': array([1, 2, 3, 4, 5, 6]), 'split0_train_score': array([0.86467181, 0.87499581, 0.88521937, 0.8935567 , 0.90244093,\n",
      "       0.91189437]), 'split1_train_score': array([0.86419188, 0.87469447, 0.88542027, 0.89448307, 0.90267531,\n",
      "       0.91148141]), 'split2_train_score': array([0.86460484, 0.87587754, 0.88521937, 0.89409244, 0.90138063,\n",
      "       0.91344576]), 'split3_train_score': array([0.86437197, 0.87586776, 0.88515369, 0.89481908, 0.90229693,\n",
      "       0.91221902]), 'split4_train_score': array([0.86326704, 0.87641465, 0.8855778 , 0.89325655, 0.90238621,\n",
      "       0.91238644]), 'split5_train_score': array([0.86471796, 0.87624724, 0.88413804, 0.89356905, 0.89994196,\n",
      "       0.91252037]), 'split6_train_score': array([0.86504163, 0.87595705, 0.88447287, 0.89355789, 0.90097993,\n",
      "       0.91284404]), 'split7_train_score': array([0.86499699, 0.87551061, 0.88485234, 0.89420523, 0.90354695,\n",
      "       0.91293332]), 'split8_train_score': array([0.86369115, 0.87460658, 0.88407107, 0.89378111, 0.90276569,\n",
      "       0.91301145]), 'split9_train_score': array([0.86381392, 0.8758566 , 0.88594611, 0.89533249, 0.90375901,\n",
      "       0.91351369]), 'mean_train_score': array([0.86433692, 0.87560283, 0.88500709, 0.89406536, 0.90221736,\n",
      "       0.91262499]), 'std_train_score': array([0.00055847, 0.00060037, 0.00058571, 0.00062177, 0.0011022 ,\n",
      "       0.00061888])}\n"
     ]
    }
   ],
   "source": [
    "# Access the results of the cross-validated hyperparameter search\n",
    "result_set = cv_1.cv_results_\n",
    "\n",
    "# Print the result set, which is a dictionary containing various information\n",
    "# about the cross-validated search, including mean and standard deviation\n",
    "# scores for each combination of hyperparameters, training time, etc.\n",
    "print(result_set)\n"
   ]
  },
  {
   "cell_type": "code",
   "execution_count": 23,
   "id": "b94104ca",
   "metadata": {},
   "outputs": [
    {
     "name": "stdout",
     "output_type": "stream",
     "text": [
      "Total number of models:  6\n"
     ]
    },
    {
     "data": {
      "image/png": "[encoded data removed]",
      "text/plain": [
       "<Figure size 640x480 with 1 Axes>"
      ]
     },
     "metadata": {},
     "output_type": "display_data"
    }
   ],
   "source": [
    "# Access the mean training accuracy scores from the cross-validated search results\n",
    "train_result = result_set['mean_train_score']\n",
    "\n",
    "# Access the mean test accuracy scores from the cross-validated search results\n",
    "test_result = result_set['mean_test_score']\n",
    "\n",
    "# Print the total number of models (number of hyperparameter combinations)\n",
    "print(\"Total number of models: \", len(test_result))\n",
    "\n",
    "import matplotlib.pyplot as plt\n",
    "\n",
    "# Plot hidden layers hyperparameter values vs mean training and test accuracy scores\n",
    "plt.plot(range(0, len(train_result)), train_result, 'b', range(0, len(test_result)), test_result, 'r')\n",
    "# Label the x-axis with the hyperparameter values\n",
    "plt.xticks(range(0, len(train_result)), range(9, 110, 20))\n",
    "plt.xlabel('Hyperparameter Hidden_layers\\nBlue = mean training acc. Red = mean test acc.')\n",
    "plt.ylabel('Score')\n",
    "\n",
    "# Display the plot\n",
    "plt.show()\n"
   ]
  },
  {
   "cell_type": "code",
   "execution_count": 24,
   "id": "b3c77030",
   "metadata": {},
   "outputs": [
    {
     "name": "stdout",
     "output_type": "stream",
     "text": [
      "Train accuracy: 0.863560113708276\n",
      "Test accuracy: 0.857872779262176\n",
      "              precision    recall  f1-score   support\n",
      "\n",
      "           0       0.88      0.94      0.91     33101\n",
      "           1       0.74      0.57      0.64      9565\n",
      "\n",
      "    accuracy                           0.86     42666\n",
      "   macro avg       0.81      0.76      0.78     42666\n",
      "weighted avg       0.85      0.86      0.85     42666\n",
      "\n",
      "{'hidden_layer_sizes': (9,)}\n"
     ]
    }
   ],
   "source": [
    "# Print the accuracy of the best model on the training data\n",
    "print(\"Train accuracy:\", cv_1.score(X_train, y_train))\n",
    "\n",
    "# Print the accuracy of the best model on the testing data\n",
    "print(\"Test accuracy:\", cv_1.score(X_test, y_test))\n",
    "\n",
    "# Make predictions on the testing data using the best model\n",
    "y_pred = cv_1.predict(X_test)\n",
    "\n",
    "# Print a classification report that includes precision, recall, and F1-score\n",
    "# for each class in the testing data\n",
    "print(classification_report(y_test, y_pred))\n",
    "\n",
    "# Print the best hyperparameters found during the hyperparameter search\n",
    "print(cv_1.best_params_)"
   ]
  },
  {
   "cell_type": "markdown",
   "id": "05488c82",
   "metadata": {},
   "source": [
    "The output of this GridSearchCV returns 9 neurons as the optimal number of neurons in the hidden layer. We should attempt to tune the model with the lower number of neurons in the hidden layer."
   ]
  },
  {
   "cell_type": "code",
   "execution_count": 25,
   "id": "c736ef50",
   "metadata": {},
   "outputs": [
    {
     "name": "stdout",
     "output_type": "stream",
     "text": [
      "Train accuracy: 0.863560113708276\n",
      "Test accuracy: 0.857872779262176\n",
      "              precision    recall  f1-score   support\n",
      "\n",
      "           0       0.88      0.94      0.91     33101\n",
      "           1       0.74      0.57      0.64      9565\n",
      "\n",
      "    accuracy                           0.86     42666\n",
      "   macro avg       0.81      0.76      0.78     42666\n",
      "weighted avg       0.85      0.86      0.85     42666\n",
      "\n",
      "{'hidden_layer_sizes': (9,)}\n"
     ]
    }
   ],
   "source": [
    "# Define a dictionary of new hyperparameter values to search through.\n",
    "# In this case, it's different combinations of hidden layer sizes.\n",
    "params = {'hidden_layer_sizes': [(3,), (6,),(9,), (12,), (15,), (18,), (21,), (24,)]}\n",
    "\n",
    "# Create a new instance of GridSearchCV, which performs a search over\n",
    "# the specified parameter grid for the best hyperparameters.\n",
    "# 'estimator' is the model to be tuned, and 'param_grid' is the dictionary\n",
    "# of hyperparameter values to search through.\n",
    "# 'cv' is the number of cross-validation folds, and 'n_jobs' is the number\n",
    "# of CPU cores to use in parallel (set to -1 to use all available cores).\n",
    "cv_2 = GridSearchCV(param_grid=params, estimator=MLPClassifier(random_state=rs), cv=10, n_jobs=-1)\n",
    "\n",
    "# Fit the GridSearchCV instance on the training data to find the best hyperparameters.\n",
    "cv_2.fit(X_train, y_train)\n",
    "\n",
    "# Print the accuracy of the best model on the training data\n",
    "print(\"Train accuracy:\", cv_2.score(X_train, y_train))\n",
    "\n",
    "# Print the accuracy of the best model on the testing data\n",
    "print(\"Test accuracy:\", cv_2.score(X_test, y_test))\n",
    "\n",
    "# Make predictions on the testing data using the best model\n",
    "y_pred = cv_2.predict(X_test)\n",
    "\n",
    "# Print a classification report that includes precision, recall, and F1-score\n",
    "# for each class in the testing data\n",
    "print(classification_report(y_test, y_pred))\n",
    "\n",
    "# Print the best hyperparameters found during the hyperparameter search\n",
    "print(cv_2.best_params_)\n"
   ]
  },
  {
   "cell_type": "markdown",
   "id": "300df643",
   "metadata": {},
   "source": [
    "We now have the optimal value for neuron count in the hidden layer. Next, we will tune the second hyperparameter, alpha, which is the learning rate for the gradient descent algorithm."
   ]
  },
  {
   "cell_type": "code",
   "execution_count": 26,
   "id": "1d4db749",
   "metadata": {},
   "outputs": [
    {
     "name": "stdout",
     "output_type": "stream",
     "text": [
      "Train accuracy: 0.863560113708276\n",
      "Test accuracy: 0.857872779262176\n",
      "              precision    recall  f1-score   support\n",
      "\n",
      "           0       0.88      0.94      0.91     33101\n",
      "           1       0.74      0.57      0.64      9565\n",
      "\n",
      "    accuracy                           0.86     42666\n",
      "   macro avg       0.81      0.76      0.78     42666\n",
      "weighted avg       0.85      0.86      0.85     42666\n",
      "\n",
      "{'alpha': 0.0001, 'hidden_layer_sizes': (9,)}\n"
     ]
    }
   ],
   "source": [
    "# Define a dictionary of hyperparameter values to search through.\n",
    "# In this case, it includes different combinations of hidden layer sizes\n",
    "# and values for the regularization parameter alpha.\n",
    "params = {'hidden_layer_sizes': [(5,), (7,), (9,), (11,), (13,)], 'alpha': [0.01, 0.001, 0.0001, 0.00001]}\n",
    "\n",
    "# Create a new instance of GridSearchCV, which performs a search over\n",
    "# the specified parameter grid for the best hyperparameters.\n",
    "# 'estimator' is the model to be tuned, and 'param_grid' is the dictionary\n",
    "# of hyperparameter values to search through.\n",
    "# 'cv' is the number of cross-validation folds, and 'n_jobs' is the number\n",
    "# of CPU cores to use in parallel (set to -1 to use all available cores).\n",
    "cv_3 = GridSearchCV(param_grid=params, estimator=MLPClassifier(random_state=rs), cv=10, n_jobs=-1)\n",
    "\n",
    "# Fit the GridSearchCV instance on the training data to find the best hyperparameters.\n",
    "cv_3.fit(X_train, y_train)\n",
    "\n",
    "# Print the accuracy of the best model on the training data\n",
    "print(\"Train accuracy:\", cv_3.score(X_train, y_train))\n",
    "\n",
    "# Print the accuracy of the best model on the testing data\n",
    "print(\"Test accuracy:\", cv_3.score(X_test, y_test))\n",
    "\n",
    "# Make predictions on the testing data using the best model\n",
    "y_pred = cv_3.predict(X_test)\n",
    "\n",
    "# Print a classification report that includes precision, recall, and F1-score\n",
    "# for each class in the testing data\n",
    "print(classification_report(y_test, y_pred))\n",
    "\n",
    "# Print the best hyperparameters found during the hyperparameter search\n",
    "print(cv_3.best_params_)"
   ]
  },
  {
   "cell_type": "markdown",
   "id": "9d6213dc",
   "metadata": {},
   "source": [
    "**3(a) Explain the parameters used in building this model, e.g., network architecture, iterations, activation function, etc.**"
   ]
  },
  {
   "cell_type": "code",
   "execution_count": 27,
   "id": "ea7e2461",
   "metadata": {},
   "outputs": [
    {
     "name": "stdout",
     "output_type": "stream",
     "text": [
      "{'cv': 10, 'error_score': nan, 'estimator__activation': 'relu', 'estimator__alpha': 0.0001, 'estimator__batch_size': 'auto', 'estimator__beta_1': 0.9, 'estimator__beta_2': 0.999, 'estimator__early_stopping': False, 'estimator__epsilon': 1e-08, 'estimator__hidden_layer_sizes': (100,), 'estimator__learning_rate': 'constant', 'estimator__learning_rate_init': 0.001, 'estimator__max_fun': 15000, 'estimator__max_iter': 200, 'estimator__momentum': 0.9, 'estimator__n_iter_no_change': 10, 'estimator__nesterovs_momentum': True, 'estimator__power_t': 0.5, 'estimator__random_state': 10, 'estimator__shuffle': True, 'estimator__solver': 'adam', 'estimator__tol': 0.0001, 'estimator__validation_fraction': 0.1, 'estimator__verbose': False, 'estimator__warm_start': False, 'estimator': MLPClassifier(random_state=10), 'n_jobs': -1, 'param_grid': {'hidden_layer_sizes': [(5,), (7,), (9,), (11,), (13,)], 'alpha': [0.01, 0.001, 0.0001, 1e-05]}, 'pre_dispatch': '2*n_jobs', 'refit': True, 'return_train_score': False, 'scoring': None, 'verbose': 0}\n"
     ]
    }
   ],
   "source": [
    "# Access all parameters of the trained model\n",
    "cv_3_params = cv_3.get_params()\n",
    "\n",
    "# Print the parameters\n",
    "print(cv_3_params)"
   ]
  },
  {
   "cell_type": "code",
   "execution_count": 28,
   "id": "ad5325b7",
   "metadata": {},
   "outputs": [
    {
     "name": "stdout",
     "output_type": "stream",
     "text": [
      "Number of neurons in the input layer: 108\n"
     ]
    }
   ],
   "source": [
    "# Access the number of neurons in the input layer\n",
    "num_neurons_input_layer = cv_3.n_features_in_\n",
    "\n",
    "# Print the number of neurons in the input layer\n",
    "print(\"Number of neurons in the input layer:\", num_neurons_input_layer)"
   ]
  },
  {
   "cell_type": "code",
   "execution_count": 39,
   "id": "3ce9e517",
   "metadata": {},
   "outputs": [
    {
     "name": "stdout",
     "output_type": "stream",
     "text": [
      "Number of iterations for the best model: 76\n"
     ]
    }
   ],
   "source": [
    "# Access the best model\n",
    "best_model = cv_3.best_estimator_\n",
    "\n",
    "# Access the number of iterations used by the best model\n",
    "num_iterations_best_model = best_model.n_iter_\n",
    "\n",
    "# Print the number of iterations\n",
    "print(\"Number of iterations for the best model:\", num_iterations_best_model)"
   ]
  },
  {
   "cell_type": "code",
   "execution_count": null,
   "id": "b4f111db",
   "metadata": {},
   "outputs": [],
   "source": [
    "Number of neurons in the input layer: 108\n",
    "Number of hidden layers: 9\n",
    "Activation function for hidden layers: rulu\n",
    "alpha: 0.0001\n",
    "Number of Iterations: 76\n",
    "Random State: 10"
   ]
  },
  {
   "cell_type": "markdown",
   "id": "2d708d49",
   "metadata": {},
   "source": [
    "**3(b) What is the classification accuracy on training and test datasets?**"
   ]
  },
  {
   "cell_type": "code",
   "execution_count": 30,
   "id": "baa0b5db",
   "metadata": {},
   "outputs": [
    {
     "name": "stdout",
     "output_type": "stream",
     "text": [
      "Train accuracy: 0.863560113708276\n",
      "Test accuracy: 0.857872779262176\n",
      "              precision    recall  f1-score   support\n",
      "\n",
      "           0       0.88      0.94      0.91     33101\n",
      "           1       0.74      0.57      0.64      9565\n",
      "\n",
      "    accuracy                           0.86     42666\n",
      "   macro avg       0.81      0.76      0.78     42666\n",
      "weighted avg       0.85      0.86      0.85     42666\n",
      "\n"
     ]
    }
   ],
   "source": [
    "# Print the accuracy of the best model on the training data\n",
    "print(\"Train accuracy:\", cv_3.score(X_train, y_train))\n",
    "\n",
    "# Print the accuracy of the best model on the testing data\n",
    "print(\"Test accuracy:\", cv_3.score(X_test, y_test))\n",
    "\n",
    "# Make predictions on the testing data using the best model\n",
    "y_pred = cv_3.predict(X_test)\n",
    "\n",
    "# Print a classification report that includes precision, recall, and F1-score\n",
    "# for each class in the testing data\n",
    "print(classification_report(y_test, y_pred))"
   ]
  },
  {
   "cell_type": "markdown",
   "id": "1999680a",
   "metadata": {},
   "source": [
    "**3(c) Did the training process converge and result in the best model?**"
   ]
  },
  {
   "cell_type": "code",
   "execution_count": null,
   "id": "46b597fb",
   "metadata": {},
   "outputs": [],
   "source": [
    "Yes it did"
   ]
  },
  {
   "cell_type": "markdown",
   "id": "1cd15242",
   "metadata": {},
   "source": [
    "**3(d) Do you see any sign of over-fitting?**"
   ]
  },
  {
   "cell_type": "code",
   "execution_count": null,
   "id": "6e20476d",
   "metadata": {},
   "outputs": [],
   "source": []
  },
  {
   "cell_type": "markdown",
   "id": "b7d1a52f",
   "metadata": {},
   "source": [
    "**4. Let us see if feature selection helps in improving the model? Build another Neural Network model with reduced features set. Perform dimensionality reduction by selecting variables with a decision tree (use the best decision tree model that you have built in the previous modelling task). Tune the model with GridSearchCV to find the best parameters setting.** "
   ]
  },
  {
   "cell_type": "code",
   "execution_count": 32,
   "id": "cb4c9cec",
   "metadata": {},
   "outputs": [
    {
     "name": "stdout",
     "output_type": "stream",
     "text": [
      "{'criterion': 'gini', 'max_depth': 8, 'min_samples_leaf': 5}\n"
     ]
    },
    {
     "name": "stderr",
     "output_type": "stream",
     "text": [
      "C:\\Users\\micha\\anaconda3\\Lib\\site-packages\\sklearn\\base.py:348: InconsistentVersionWarning: Trying to unpickle estimator DecisionTreeClassifier from version 1.3.0 when using version 1.3.2. This might lead to breaking code or invalid results. Use at your own risk. For more info please refer to:\n",
      "https://scikit-learn.org/stable/model_persistence.html#security-maintainability-limitations\n",
      "  warnings.warn(\n",
      "C:\\Users\\micha\\anaconda3\\Lib\\site-packages\\sklearn\\base.py:348: InconsistentVersionWarning: Trying to unpickle estimator GridSearchCV from version 1.3.0 when using version 1.3.2. This might lead to breaking code or invalid results. Use at your own risk. For more info please refer to:\n",
      "https://scikit-learn.org/stable/model_persistence.html#security-maintainability-limitations\n",
      "  warnings.warn(\n"
     ]
    }
   ],
   "source": [
    "# Perform dimension reduction using decision tree\n",
    "\n",
    "import pickle\n",
    "with open('Assign2_DT.pickle', 'rb') as f:\n",
    "    dt_best,roc_index_dt_cv, fpr_dt_cv, tpr_dt_cv = pickle.load(f)\n",
    "\n",
    "print(dt_best.best_params_)"
   ]
  },
  {
   "cell_type": "code",
   "execution_count": 33,
   "id": "8ae52e48",
   "metadata": {},
   "outputs": [
    {
     "name": "stdout",
     "output_type": "stream",
     "text": [
      "Humidity3pm : 0.6210886371783307\n",
      "Rainfall : 0.1013670287873209\n",
      "WindGustSpeed : 0.07786988178691295\n",
      "Pressure : 0.06931905985641469\n",
      "Sunshine : 0.06489778479388851\n",
      "Temp : 0.017297934703712024\n",
      "Humidity9am : 0.010426928406427534\n",
      "WindSpeed3pm : 0.005571413233730641\n",
      "Location_MountGinini : 0.0036902773321136743\n",
      "WindSpeed9am : 0.002731845904030169\n",
      "Evaporation : 0.0024920007843218643\n",
      "WindDir3pm_NNW : 0.002172839329360932\n",
      "Location_Albany : 0.002149410626922742\n",
      "Location_Wollongong : 0.0020068298629072273\n",
      "WindDir3pm_N : 0.0016369502393569556\n",
      "WindGustDir_NE : 0.0015878863415322696\n",
      "Location_Brisbane : 0.0015085686366425846\n",
      "WindDir9am_NNE : 0.001215868033739137\n",
      "Location_NorahHead : 0.0011290139783953137\n",
      "Location_Dartmoor : 0.0010830494231520303\n"
     ]
    }
   ],
   "source": [
    "from dm_tools import analyse_feature_importance\n",
    "\n",
    "analyse_feature_importance(dt_best.best_estimator_, X.columns)"
   ]
  },
  {
   "cell_type": "code",
   "execution_count": 34,
   "id": "54af967c",
   "metadata": {},
   "outputs": [
    {
     "name": "stdout",
     "output_type": "stream",
     "text": [
      "(99553, 7)\n"
     ]
    }
   ],
   "source": [
    "from sklearn.feature_selection import SelectFromModel\n",
    "\n",
    "selectmodel = SelectFromModel(dt_best.best_estimator_, prefit=True)\n",
    "X_train_sel_model = selectmodel.transform(X_train)\n",
    "X_test_sel_model = selectmodel.transform(X_test)\n",
    "\n",
    "print(X_train_sel_model.shape)"
   ]
  },
  {
   "cell_type": "code",
   "execution_count": 35,
   "id": "198ba61d",
   "metadata": {},
   "outputs": [
    {
     "name": "stdout",
     "output_type": "stream",
     "text": [
      "Train accuracy: 0.8452181250188342\n",
      "Test accuracy: 0.8457319645619463\n",
      "              precision    recall  f1-score   support\n",
      "\n",
      "           0       0.86      0.95      0.91     33101\n",
      "           1       0.74      0.49      0.59      9565\n",
      "\n",
      "    accuracy                           0.85     42666\n",
      "   macro avg       0.80      0.72      0.75     42666\n",
      "weighted avg       0.84      0.85      0.83     42666\n",
      "\n",
      "{'alpha': 0.001, 'hidden_layer_sizes': (13,)}\n"
     ]
    }
   ],
   "source": [
    "params = {'hidden_layer_sizes': [(5,), (7,), (9,), (11,), (13,)], 'alpha': [0.01, 0.001, 0.0001, 0.00001]}\n",
    "\n",
    "cv_sel_model = GridSearchCV(param_grid=params, estimator=MLPClassifier(random_state=rs), cv=10, n_jobs=-1)\n",
    "cv_sel_model.fit(X_train_sel_model, y_train)\n",
    "\n",
    "print(\"Train accuracy:\", cv_sel_model.score(X_train_sel_model, y_train))\n",
    "print(\"Test accuracy:\", cv_sel_model.score(X_test_sel_model, y_test))\n",
    "\n",
    "y_pred = cv_sel_model.predict(X_test_sel_model)\n",
    "print(classification_report(y_test, y_pred))\n",
    "\n",
    "print(cv_sel_model.best_params_)"
   ]
  },
  {
   "cell_type": "code",
   "execution_count": 36,
   "id": "6c8e8053",
   "metadata": {},
   "outputs": [
    {
     "data": {
      "text/html": [
       "<style>#sk-container-id-2 {color: black;}#sk-container-id-2 pre{padding: 0;}#sk-container-id-2 div.sk-toggleable {background-color: white;}#sk-container-id-2 label.sk-toggleable__label {cursor: pointer;display: block;width: 100%;margin-bottom: 0;padding: 0.3em;box-sizing: border-box;text-align: center;}#sk-container-id-2 label.sk-toggleable__label-arrow:before {content: \"▸\";float: left;margin-right: 0.25em;color: #696969;}#sk-container-id-2 label.sk-toggleable__label-arrow:hover:before {color: black;}#sk-container-id-2 div.sk-estimator:hover label.sk-toggleable__label-arrow:before {color: black;}#sk-container-id-2 div.sk-toggleable__content {max-height: 0;max-width: 0;overflow: hidden;text-align: left;background-color: #f0f8ff;}#sk-container-id-2 div.sk-toggleable__content pre {margin: 0.2em;color: black;border-radius: 0.25em;background-color: #f0f8ff;}#sk-container-id-2 input.sk-toggleable__control:checked~div.sk-toggleable__content {max-height: 200px;max-width: 100%;overflow: auto;}#sk-container-id-2 input.sk-toggleable__control:checked~label.sk-toggleable__label-arrow:before {content: \"▾\";}#sk-container-id-2 div.sk-estimator input.sk-toggleable__control:checked~label.sk-toggleable__label {background-color: #d4ebff;}#sk-container-id-2 div.sk-label input.sk-toggleable__control:checked~label.sk-toggleable__label {background-color: #d4ebff;}#sk-container-id-2 input.sk-hidden--visually {border: 0;clip: rect(1px 1px 1px 1px);clip: rect(1px, 1px, 1px, 1px);height: 1px;margin: -1px;overflow: hidden;padding: 0;position: absolute;width: 1px;}#sk-container-id-2 div.sk-estimator {font-family: monospace;background-color: #f0f8ff;border: 1px dotted black;border-radius: 0.25em;box-sizing: border-box;margin-bottom: 0.5em;}#sk-container-id-2 div.sk-estimator:hover {background-color: #d4ebff;}#sk-container-id-2 div.sk-parallel-item::after {content: \"\";width: 100%;border-bottom: 1px solid gray;flex-grow: 1;}#sk-container-id-2 div.sk-label:hover label.sk-toggleable__label {background-color: #d4ebff;}#sk-container-id-2 div.sk-serial::before {content: \"\";position: absolute;border-left: 1px solid gray;box-sizing: border-box;top: 0;bottom: 0;left: 50%;z-index: 0;}#sk-container-id-2 div.sk-serial {display: flex;flex-direction: column;align-items: center;background-color: white;padding-right: 0.2em;padding-left: 0.2em;position: relative;}#sk-container-id-2 div.sk-item {position: relative;z-index: 1;}#sk-container-id-2 div.sk-parallel {display: flex;align-items: stretch;justify-content: center;background-color: white;position: relative;}#sk-container-id-2 div.sk-item::before, #sk-container-id-2 div.sk-parallel-item::before {content: \"\";position: absolute;border-left: 1px solid gray;box-sizing: border-box;top: 0;bottom: 0;left: 50%;z-index: -1;}#sk-container-id-2 div.sk-parallel-item {display: flex;flex-direction: column;z-index: 1;position: relative;background-color: white;}#sk-container-id-2 div.sk-parallel-item:first-child::after {align-self: flex-end;width: 50%;}#sk-container-id-2 div.sk-parallel-item:last-child::after {align-self: flex-start;width: 50%;}#sk-container-id-2 div.sk-parallel-item:only-child::after {width: 0;}#sk-container-id-2 div.sk-dashed-wrapped {border: 1px dashed gray;margin: 0 0.4em 0.5em 0.4em;box-sizing: border-box;padding-bottom: 0.4em;background-color: white;}#sk-container-id-2 div.sk-label label {font-family: monospace;font-weight: bold;display: inline-block;line-height: 1.2em;}#sk-container-id-2 div.sk-label-container {text-align: center;}#sk-container-id-2 div.sk-container {/* jupyter's `normalize.less` sets `[hidden] { display: none; }` but bootstrap.min.css set `[hidden] { display: none !important; }` so we also need the `!important` here to be able to override the default hidden behavior on the sphinx rendered scikit-learn.org. See: https://github.com/scikit-learn/scikit-learn/issues/21755 */display: inline-block !important;position: relative;}#sk-container-id-2 div.sk-text-repr-fallback {display: none;}</style><div id=\"sk-container-id-2\" class=\"sk-top-container\"><div class=\"sk-text-repr-fallback\"><pre>MLPClassifier(alpha=0.001, hidden_layer_sizes=(13,), random_state=10)</pre><b>In a Jupyter environment, please rerun this cell to show the HTML representation or trust the notebook. <br />On GitHub, the HTML representation is unable to render, please try loading this page with nbviewer.org.</b></div><div class=\"sk-container\" hidden><div class=\"sk-item\"><div class=\"sk-estimator sk-toggleable\"><input class=\"sk-toggleable__control sk-hidden--visually\" id=\"sk-estimator-id-4\" type=\"checkbox\" checked><label for=\"sk-estimator-id-4\" class=\"sk-toggleable__label sk-toggleable__label-arrow\">MLPClassifier</label><div class=\"sk-toggleable__content\"><pre>MLPClassifier(alpha=0.001, hidden_layer_sizes=(13,), random_state=10)</pre></div></div></div></div></div>"
      ],
      "text/plain": [
       "MLPClassifier(alpha=0.001, hidden_layer_sizes=(13,), random_state=10)"
      ]
     },
     "execution_count": 36,
     "metadata": {},
     "output_type": "execute_result"
    }
   ],
   "source": [
    "cv_sel_model.best_estimator_.fit(X_train, y_train)"
   ]
  },
  {
   "cell_type": "markdown",
   "id": "1e87c10c",
   "metadata": {},
   "source": [
    "**4(a) Did feature selection favour the outcome? Any change in network architecture? What inputs are being used as the network input?**"
   ]
  },
  {
   "cell_type": "markdown",
   "id": "04cd7f78",
   "metadata": {},
   "source": [
    "No, as training accruacy decreased"
   ]
  },
  {
   "cell_type": "code",
   "execution_count": 40,
   "id": "eab3fdd9",
   "metadata": {},
   "outputs": [
    {
     "name": "stdout",
     "output_type": "stream",
     "text": [
      "{'cv': 10, 'error_score': nan, 'estimator__activation': 'relu', 'estimator__alpha': 0.0001, 'estimator__batch_size': 'auto', 'estimator__beta_1': 0.9, 'estimator__beta_2': 0.999, 'estimator__early_stopping': False, 'estimator__epsilon': 1e-08, 'estimator__hidden_layer_sizes': (100,), 'estimator__learning_rate': 'constant', 'estimator__learning_rate_init': 0.001, 'estimator__max_fun': 15000, 'estimator__max_iter': 200, 'estimator__momentum': 0.9, 'estimator__n_iter_no_change': 10, 'estimator__nesterovs_momentum': True, 'estimator__power_t': 0.5, 'estimator__random_state': 10, 'estimator__shuffle': True, 'estimator__solver': 'adam', 'estimator__tol': 0.0001, 'estimator__validation_fraction': 0.1, 'estimator__verbose': False, 'estimator__warm_start': False, 'estimator': MLPClassifier(random_state=10), 'n_jobs': -1, 'param_grid': {'hidden_layer_sizes': [(5,), (7,), (9,), (11,), (13,)], 'alpha': [0.01, 0.001, 0.0001, 1e-05]}, 'pre_dispatch': '2*n_jobs', 'refit': True, 'return_train_score': False, 'scoring': None, 'verbose': 0}\n"
     ]
    }
   ],
   "source": [
    "# Access all parameters of the trained model\n",
    "cv_sel_model_params = cv_sel_model.get_params()\n",
    "\n",
    "# Print the parameters\n",
    "print(cv_sel_model_params)"
   ]
  },
  {
   "cell_type": "code",
   "execution_count": 41,
   "id": "742795e4",
   "metadata": {},
   "outputs": [
    {
     "name": "stdout",
     "output_type": "stream",
     "text": [
      "Number of neurons in the input layer: 108\n"
     ]
    }
   ],
   "source": [
    "# Access the number of neurons in the input layer\n",
    "num_neurons_input_layer = cv_sel_model.n_features_in_\n",
    "\n",
    "# Print the number of neurons in the input layer\n",
    "print(\"Number of neurons in the input layer:\", num_neurons_input_layer)"
   ]
  },
  {
   "cell_type": "markdown",
   "id": "c6835fde",
   "metadata": {},
   "source": [
    "Number of neurons in the input layer: 108 \n",
    "**Number of hidden layers: 13** \n",
    "Activation function for hidden layers: relu \n",
    "**alpha: 0.001** \n",
    "**Number of Iterations: 106** \n",
    "Random State: 10"
   ]
  },
  {
   "cell_type": "code",
   "execution_count": 37,
   "id": "3a024fc6",
   "metadata": {},
   "outputs": [
    {
     "name": "stdout",
     "output_type": "stream",
     "text": [
      "Humidity3pm : 0.6210886371783307\n",
      "Rainfall : 0.1013670287873209\n",
      "WindGustSpeed : 0.07786988178691295\n",
      "Pressure : 0.06931905985641469\n",
      "Sunshine : 0.06489778479388851\n",
      "Temp : 0.017297934703712024\n",
      "Humidity9am : 0.010426928406427534\n",
      "WindSpeed3pm : 0.005571413233730641\n",
      "Location_MountGinini : 0.0036902773321136743\n",
      "WindSpeed9am : 0.002731845904030169\n",
      "Evaporation : 0.0024920007843218643\n",
      "WindDir3pm_NNW : 0.002172839329360932\n",
      "Location_Albany : 0.002149410626922742\n",
      "Location_Wollongong : 0.0020068298629072273\n",
      "WindDir3pm_N : 0.0016369502393569556\n",
      "WindGustDir_NE : 0.0015878863415322696\n",
      "Location_Brisbane : 0.0015085686366425846\n",
      "WindDir9am_NNE : 0.001215868033739137\n",
      "Location_NorahHead : 0.0011290139783953137\n",
      "Location_Dartmoor : 0.0010830494231520303\n"
     ]
    }
   ],
   "source": [
    "from dm_tools import analyse_feature_importance\n",
    "\n",
    "analyse_feature_importance(dt_best.best_estimator_, X.columns)"
   ]
  },
  {
   "cell_type": "markdown",
   "id": "5f0f920b",
   "metadata": {},
   "source": [
    "**4(b) What is the classification accuracy on training and test datasets?**"
   ]
  },
  {
   "cell_type": "code",
   "execution_count": null,
   "id": "e2d6307e",
   "metadata": {},
   "outputs": [],
   "source": []
  },
  {
   "cell_type": "markdown",
   "id": "9643e748",
   "metadata": {},
   "source": [
    "**4(c) How many iterations are now needed to train this network?**\n"
   ]
  },
  {
   "cell_type": "code",
   "execution_count": 42,
   "id": "7d80b988",
   "metadata": {},
   "outputs": [
    {
     "name": "stdout",
     "output_type": "stream",
     "text": [
      "106\n"
     ]
    }
   ],
   "source": [
    "# Number of iterations needed to train this netwrok\n",
    "\n",
    "print(cv_sel_model.best_estimator_.n_iter_)"
   ]
  },
  {
   "cell_type": "markdown",
   "id": "103d517b",
   "metadata": {},
   "source": [
    "**4(d) Do you see any sign of over-fitting? Did the training process converge and result in the best model?**"
   ]
  },
  {
   "cell_type": "markdown",
   "id": "e059da36",
   "metadata": {},
   "source": [
    "No overfitting because training and testing accuray are almost the same. "
   ]
  }
 ],
 "metadata": {
  "kernelspec": {
   "display_name": "Python 3 (ipykernel)",
   "language": "python",
   "name": "python3"
  },
  "language_info": {
   "codemirror_mode": {
    "name": "ipython",
    "version": 3
   },
   "file_extension": ".py",
   "mimetype": "text/x-python",
   "name": "python",
   "nbconvert_exporter": "python",
   "pygments_lexer": "ipython3",
   "version": "3.11.3"
  }
 },
 "nbformat": 4,
 "nbformat_minor": 5
}
